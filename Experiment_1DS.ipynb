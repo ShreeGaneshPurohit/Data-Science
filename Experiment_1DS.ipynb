{
 "cells": [
  {
   "cell_type": "code",
   "execution_count": 50,
   "id": "71eca8bf",
   "metadata": {},
   "outputs": [
    {
     "name": "stdout",
     "output_type": "stream",
     "text": [
      "(1, 2, 3, 4, 5, 6)\n"
     ]
    }
   ],
   "source": [
    "tuple_ = (1,2,3,4,5,6) #Tuple Initalisation\n",
    "print(tuple)"
   ]
  },
  {
   "cell_type": "code",
   "execution_count": 51,
   "id": "f9ab28d2",
   "metadata": {},
   "outputs": [
    {
     "data": {
      "text/plain": [
       "tuple"
      ]
     },
     "execution_count": 51,
     "metadata": {},
     "output_type": "execute_result"
    }
   ],
   "source": [
    "type(tuple_)"
   ]
  },
  {
   "cell_type": "code",
   "execution_count": 52,
   "id": "20632988",
   "metadata": {},
   "outputs": [
    {
     "name": "stdout",
     "output_type": "stream",
     "text": [
      "Value in tuple[0] =  1\n",
      "Value in tuple[2] =  3\n",
      "Value in tuple[4] =  5 \n",
      "\n",
      "Value in tuple[-1] =  6\n",
      "Value in tuple[-2] =  5\n",
      "Value in tuple[-3] =  4\n"
     ]
    }
   ],
   "source": [
    "#Accessing Tuple using Positive Index\n",
    "\n",
    "print(\"Value in tuple[0] = \", tuple_[0])\n",
    "print(\"Value in tuple[2] = \", tuple_[2])\n",
    "print(\"Value in tuple[4] = \", tuple_[4],'\\n')\n",
    "\n",
    "#Accessing Tuple using Negative Index\n",
    "print(\"Value in tuple[-1] = \", tuple_[-1])\n",
    "print(\"Value in tuple[-2] = \", tuple_[-2])\n",
    "print(\"Value in tuple[-3] = \", tuple_[-3])\n"
   ]
  },
  {
   "cell_type": "code",
   "execution_count": 53,
   "id": "bddfec9e",
   "metadata": {},
   "outputs": [],
   "source": [
    "#Concadination of Tuple"
   ]
  },
  {
   "cell_type": "code",
   "execution_count": 54,
   "id": "ee1d4967",
   "metadata": {},
   "outputs": [
    {
     "name": "stdout",
     "output_type": "stream",
     "text": [
      "(0, 1, 2, 3, 'python', 'Java')\n"
     ]
    }
   ],
   "source": [
    "tuple1 = (0, 1, 2, 3)\n",
    "tuple2 = ('python', 'Java')\n",
    "print(tuple1 + tuple2)\n",
    "\n"
   ]
  },
  {
   "cell_type": "code",
   "execution_count": 55,
   "id": "da3544fb",
   "metadata": {},
   "outputs": [
    {
     "name": "stdout",
     "output_type": "stream",
     "text": [
      "('python', 'python', 'python')\n"
     ]
    }
   ],
   "source": [
    "# Code to create a tuple with repetition\n",
    "tuple3 = ('python',)*3\n",
    "print(tuple3)"
   ]
  },
  {
   "cell_type": "code",
   "execution_count": 56,
   "id": "821a5935",
   "metadata": {},
   "outputs": [
    {
     "name": "stdout",
     "output_type": "stream",
     "text": [
      "(1, 2, 3)\n",
      "(3, 2, 1, 0)\n",
      "(2, 3)\n"
     ]
    }
   ],
   "source": [
    "# code to test slicing\n",
    "tuple1 = (0 ,1, 2, 3)\n",
    " \n",
    "print(tuple1[1:])\n",
    "print(tuple1[::-1])\n",
    "print(tuple1[2:4])"
   ]
  },
  {
   "cell_type": "code",
   "execution_count": 63,
   "id": "fee0d87c",
   "metadata": {},
   "outputs": [
    {
     "ename": "NameError",
     "evalue": "name 'tuple3' is not defined",
     "output_type": "error",
     "traceback": [
      "\u001b[0;31m---------------------------------------------------------------------------\u001b[0m",
      "\u001b[0;31mNameError\u001b[0m                                 Traceback (most recent call last)",
      "Cell \u001b[0;32mIn[63], line 5\u001b[0m\n\u001b[1;32m      2\u001b[0m tuple3 \u001b[38;5;241m=\u001b[39m ( \u001b[38;5;241m0\u001b[39m, \u001b[38;5;241m1\u001b[39m)\n\u001b[1;32m      4\u001b[0m \u001b[38;5;28;01mdel\u001b[39;00m tuple3\n\u001b[0;32m----> 5\u001b[0m \u001b[38;5;28mprint\u001b[39m(tuple3)\n",
      "\u001b[0;31mNameError\u001b[0m: name 'tuple3' is not defined"
     ]
    }
   ],
   "source": [
    "# Code for deleting a tuple\n",
    "tuple3 = ( 0, 1)\n",
    " \n",
    "del tuple3\n",
    "print(tuple3)"
   ]
  },
  {
   "cell_type": "code",
   "execution_count": 58,
   "id": "187dc07c",
   "metadata": {},
   "outputs": [
    {
     "name": "stdout",
     "output_type": "stream",
     "text": [
      "2\n"
     ]
    }
   ],
   "source": [
    "# Code for printing the length of a tuple\n",
    "tuple2 = ('python', 'geek')\n",
    "print(len(tuple2))"
   ]
  },
  {
   "cell_type": "code",
   "execution_count": 59,
   "id": "d6ad9b26",
   "metadata": {},
   "outputs": [
    {
     "name": "stdout",
     "output_type": "stream",
     "text": [
      "('immutable', True, 23)\n"
     ]
    }
   ],
   "source": [
    "# tuple with different datatypes\n",
    "tuple_obj = (\"immutable\",True,23)\n",
    "print(tuple_obj)\n"
   ]
  },
  {
   "cell_type": "code",
   "execution_count": 61,
   "id": "2508f767",
   "metadata": {},
   "outputs": [
    {
     "name": "stdout",
     "output_type": "stream",
     "text": [
      "False\n"
     ]
    }
   ],
   "source": [
    "print(str.isalpha()) #Returns True if all characters in the string are in the alphabet"
   ]
  },
  {
   "cell_type": "code",
   "execution_count": null,
   "id": "8cf57e59",
   "metadata": {},
   "outputs": [],
   "source": [
    "# Operations of dictionary"
   ]
  },
  {
   "cell_type": "code",
   "execution_count": 64,
   "id": "85d41fe5",
   "metadata": {},
   "outputs": [],
   "source": [
    "#Declaration "
   ]
  },
  {
   "cell_type": "code",
   "execution_count": 65,
   "id": "21bd64b3",
   "metadata": {},
   "outputs": [
    {
     "name": "stdout",
     "output_type": "stream",
     "text": [
      "{'brand': 'Ford', 'model': 'Mustang', 'year': 1964}\n"
     ]
    }
   ],
   "source": [
    "thisdict = {\n",
    "  \"brand\": \"Ford\",\n",
    "  \"model\": \"Mustang\",\n",
    "  \"year\": 1964\n",
    "}\n",
    "print(thisdict)\n"
   ]
  },
  {
   "cell_type": "code",
   "execution_count": 66,
   "id": "1a0bb2b4",
   "metadata": {},
   "outputs": [
    {
     "name": "stdout",
     "output_type": "stream",
     "text": [
      "Ford\n"
     ]
    }
   ],
   "source": [
    "#Accessing Elements using key\n",
    "thisdict = {\n",
    "  \"brand\": \"Ford\",\n",
    "  \"model\": \"Mustang\",\n",
    "  \"year\": 1964\n",
    "}\n",
    "print(thisdict[\"brand\"])"
   ]
  },
  {
   "cell_type": "code",
   "execution_count": 67,
   "id": "c6004e08",
   "metadata": {},
   "outputs": [
    {
     "name": "stdout",
     "output_type": "stream",
     "text": [
      "{'brand': 'Ford', 'model': 'Mustang', 'year': 2020}\n"
     ]
    }
   ],
   "source": [
    "thisdict = {\n",
    "  \"brand\": \"Ford\",\n",
    "  \"model\": \"Mustang\",\n",
    "  \"year\": 1964,\n",
    "  \"year\": 2020\n",
    "}\n",
    "print(thisdict)"
   ]
  },
  {
   "cell_type": "code",
   "execution_count": 68,
   "id": "51d85abe",
   "metadata": {},
   "outputs": [
    {
     "name": "stdout",
     "output_type": "stream",
     "text": [
      "3\n"
     ]
    }
   ],
   "source": [
    "print(len(thisdict))"
   ]
  },
  {
   "cell_type": "code",
   "execution_count": 69,
   "id": "7799afb3",
   "metadata": {},
   "outputs": [
    {
     "name": "stdout",
     "output_type": "stream",
     "text": [
      "<class 'dict'>\n"
     ]
    }
   ],
   "source": [
    "thisdict = {\n",
    "  \"brand\": \"Ford\",\n",
    "  \"model\": \"Mustang\",\n",
    "  \"year\": 1964\n",
    "}\n",
    "print(type(thisdict))"
   ]
  },
  {
   "cell_type": "code",
   "execution_count": 70,
   "id": "bb9401a1",
   "metadata": {},
   "outputs": [
    {
     "name": "stdout",
     "output_type": "stream",
     "text": [
      "{'name': 'John', 'age': 36, 'country': 'Norway'}\n"
     ]
    }
   ],
   "source": [
    "thisdict = dict(name = \"John\", age = 36, country = \"Norway\")\n",
    "print(thisdict)\n"
   ]
  },
  {
   "cell_type": "code",
   "execution_count": 71,
   "id": "5d0def04",
   "metadata": {},
   "outputs": [],
   "source": [
    "#List Operations\n"
   ]
  },
  {
   "cell_type": "code",
   "execution_count": 72,
   "id": "5bbf9979",
   "metadata": {},
   "outputs": [
    {
     "name": "stdout",
     "output_type": "stream",
     "text": [
      "['Mathematics', 'chemistry', 1997, 2000, 20544]\n"
     ]
    }
   ],
   "source": [
    "# Adds List Element as value of List. \n",
    "List = ['Mathematics', 'chemistry', 1997, 2000] \n",
    "List.append(20544) \n",
    "print(List)"
   ]
  },
  {
   "cell_type": "code",
   "execution_count": 73,
   "id": "2a9d14b1",
   "metadata": {},
   "outputs": [
    {
     "name": "stdout",
     "output_type": "stream",
     "text": [
      "['Mathematics', 'chemistry', 10087, 1997, 2000]\n"
     ]
    }
   ],
   "source": [
    "List = ['Mathematics', 'chemistry', 1997, 2000] \n",
    "# Insert at index 2 value 10087 \n",
    "List.insert(2, 10087) \n",
    "print(List)"
   ]
  },
  {
   "cell_type": "code",
   "execution_count": 74,
   "id": "ef35d167",
   "metadata": {},
   "outputs": [
    {
     "name": "stdout",
     "output_type": "stream",
     "text": [
      "[1, 2, 3, 2, 3, 4, 5]\n",
      "[2, 3, 4, 5, 1, 2, 3, 2, 3, 4, 5]\n"
     ]
    }
   ],
   "source": [
    "List1 = [1, 2, 3] \n",
    "List2 = [2, 3, 4, 5] \n",
    "  \n",
    "# Add List2 to List1 \n",
    "List1.extend(List2) \n",
    "print(List1) \n",
    "  \n",
    "# Add List1 to List2 now \n",
    "List2.extend(List1) \n",
    "print(List2)"
   ]
  },
  {
   "cell_type": "code",
   "execution_count": 75,
   "id": "c6ff1536",
   "metadata": {},
   "outputs": [],
   "source": [
    "#Python Extend Method\n"
   ]
  },
  {
   "cell_type": "code",
   "execution_count": 76,
   "id": "5e31714b",
   "metadata": {},
   "outputs": [],
   "source": [
    "#Python Sum Function"
   ]
  },
  {
   "cell_type": "code",
   "execution_count": 77,
   "id": "3da582c4",
   "metadata": {},
   "outputs": [
    {
     "name": "stdout",
     "output_type": "stream",
     "text": [
      "15\n"
     ]
    }
   ],
   "source": [
    "List = [1, 2, 3, 4, 5] \n",
    "print(sum(List)) \n"
   ]
  },
  {
   "cell_type": "code",
   "execution_count": 78,
   "id": "dda2edd1",
   "metadata": {},
   "outputs": [],
   "source": [
    "#Count func\n"
   ]
  },
  {
   "cell_type": "code",
   "execution_count": 79,
   "id": "e95426b6",
   "metadata": {},
   "outputs": [
    {
     "name": "stdout",
     "output_type": "stream",
     "text": [
      "4\n"
     ]
    }
   ],
   "source": [
    "List = [1, 2, 3, 1, 2, 1, 2, 3, 2, 1] \n",
    "print(List.count(1)) "
   ]
  },
  {
   "cell_type": "code",
   "execution_count": 80,
   "id": "64f490c1",
   "metadata": {},
   "outputs": [],
   "source": [
    "#Len Func"
   ]
  },
  {
   "cell_type": "code",
   "execution_count": 81,
   "id": "a7218253",
   "metadata": {},
   "outputs": [
    {
     "name": "stdout",
     "output_type": "stream",
     "text": [
      "10\n"
     ]
    }
   ],
   "source": [
    "List = [1, 2, 3, 1, 2, 1, 2, 3, 2, 1] \n",
    "print(len(List)) "
   ]
  },
  {
   "cell_type": "code",
   "execution_count": 82,
   "id": "b8faa3fb",
   "metadata": {},
   "outputs": [],
   "source": [
    "#Python index() method\n"
   ]
  },
  {
   "cell_type": "code",
   "execution_count": 83,
   "id": "2af2e0ec",
   "metadata": {},
   "outputs": [
    {
     "name": "stdout",
     "output_type": "stream",
     "text": [
      "1\n"
     ]
    }
   ],
   "source": [
    "List = [1, 2, 3, 1, 2, 1, 2, 3, 2, 1] \n",
    "print(List.index(2))\n"
   ]
  },
  {
   "cell_type": "code",
   "execution_count": 84,
   "id": "d7624b68",
   "metadata": {},
   "outputs": [],
   "source": [
    "#Sort Method"
   ]
  },
  {
   "cell_type": "code",
   "execution_count": 85,
   "id": "af2c94fb",
   "metadata": {},
   "outputs": [
    {
     "name": "stdout",
     "output_type": "stream",
     "text": [
      "[5.33, 4.445, 3, 2.5, 2.3, 1.054]\n"
     ]
    }
   ],
   "source": [
    "List = [2.3, 4.445, 3, 5.33, 1.054, 2.5] \n",
    "  \n",
    "#Reverse flag is set True \n",
    "List.sort(reverse=True)  \n",
    "  \n",
    "#List.sort().reverse(), reverses the sorted list   \n",
    "print(List)         "
   ]
  },
  {
   "cell_type": "code",
   "execution_count": 86,
   "id": "c8d75993",
   "metadata": {},
   "outputs": [],
   "source": [
    "#Python reverse() method\n"
   ]
  },
  {
   "cell_type": "code",
   "execution_count": 87,
   "id": "8e6ea13e",
   "metadata": {},
   "outputs": [
    {
     "name": "stdout",
     "output_type": "stream",
     "text": [
      "[5, 4, 3, 2, 1]\n"
     ]
    }
   ],
   "source": [
    "# creating a list \n",
    "list = [1,2,3,4,5] \n",
    "#reversing the list \n",
    "list.reverse() \n",
    "#printing the list \n",
    "print(list)"
   ]
  },
  {
   "cell_type": "code",
   "execution_count": 88,
   "id": "e22eb81c",
   "metadata": {},
   "outputs": [],
   "source": [
    "#POp Method"
   ]
  },
  {
   "cell_type": "code",
   "execution_count": 89,
   "id": "623ac077",
   "metadata": {},
   "outputs": [
    {
     "name": "stdout",
     "output_type": "stream",
     "text": [
      "2.5\n"
     ]
    }
   ],
   "source": [
    "List = [2.3, 4.445, 3, 5.33, 1.054, 2.5] \n",
    "print(List.pop()) "
   ]
  },
  {
   "cell_type": "code",
   "execution_count": 90,
   "id": "d25374b0",
   "metadata": {},
   "outputs": [],
   "source": [
    "#Python del() method"
   ]
  },
  {
   "cell_type": "code",
   "execution_count": 91,
   "id": "c5e33566",
   "metadata": {},
   "outputs": [
    {
     "name": "stdout",
     "output_type": "stream",
     "text": [
      "[4.445, 3, 5.33, 1.054, 2.5]\n"
     ]
    }
   ],
   "source": [
    "List = [2.3, 4.445, 3, 5.33, 1.054, 2.5] \n",
    "del List[0] \n",
    "print(List) "
   ]
  },
  {
   "cell_type": "code",
   "execution_count": null,
   "id": "a88c09be",
   "metadata": {},
   "outputs": [],
   "source": []
  }
 ],
 "metadata": {
  "kernelspec": {
   "display_name": "Python 3 (ipykernel)",
   "language": "python",
   "name": "python3"
  },
  "language_info": {
   "codemirror_mode": {
    "name": "ipython",
    "version": 3
   },
   "file_extension": ".py",
   "mimetype": "text/x-python",
   "name": "python",
   "nbconvert_exporter": "python",
   "pygments_lexer": "ipython3",
   "version": "3.11.5"
  }
 },
 "nbformat": 4,
 "nbformat_minor": 5
}
